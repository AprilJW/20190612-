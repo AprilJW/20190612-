{
 "cells": [
  {
   "cell_type": "code",
   "execution_count": 1,
   "metadata": {},
   "outputs": [],
   "source": [
    "import numpy as np\n",
    "import pandas as pd\n",
    "import re\n",
    "import jieba"
   ]
  },
  {
   "cell_type": "code",
   "execution_count": 2,
   "metadata": {},
   "outputs": [],
   "source": [
    "#选出news_detail这一列中带有日期的数据，并存到somecolumns.csv文件中\n",
    "def loop_all_rows(rows):\n",
    "    for i in range(rows):\n",
    "    #for i in range(3):\n",
    "        one_news_detail = news['news_detail'][i]\n",
    "        #print(type(str(one_news_detail)))\n",
    "        one_news_detail = str(one_news_detail)\n",
    "        find_date = findDate(one_news_detail)\n",
    "        if find_date:\n",
    "            writeSomeColumnsToCSV(i, news['stk_name'][i], find_date)\n"
   ]
  },
  {
   "cell_type": "code",
   "execution_count": 3,
   "metadata": {},
   "outputs": [],
   "source": [
    "def writeSomeColumnsToCSV(index, stk_name, date):\n",
    "    with open ('somecolumns.csv', 'a+') as f:\n",
    "        #print(index, stk_name, date)\n",
    "        select_csv = str(index) + ',' + str(stk_name) + ',' + date + '\\n'\n",
    "        f.write(select_csv)\n"
   ]
  },
  {
   "cell_type": "code",
   "execution_count": 4,
   "metadata": {},
   "outputs": [
    {
     "name": "stdout",
     "output_type": "stream",
     "text": [
      "06月0888日\n"
     ]
    }
   ],
   "source": [
    "def findDate(string):\n",
    "    pattern = '\\d+月\\d+日'\n",
    "    c = re.findall(pattern=pattern, string=string)\n",
    "    try:\n",
    "        return c[0]\n",
    "    except IndexError:\n",
    "        pass\n",
    "a = findDate('hdhl06月0888日')\n",
    "#a = findDate('hnishii')\n",
    "print(a)"
   ]
  },
  {
   "cell_type": "code",
   "execution_count": 5,
   "metadata": {},
   "outputs": [
    {
     "name": "stdout",
     "output_type": "stream",
     "text": [
      "(1199, 12)\n"
     ]
    }
   ],
   "source": [
    "news = pd.read_csv('爬取的新闻0609.csv')\n",
    "#print(news.head())\n",
    "#print(news['news_detail'])\n",
    "shape = news.shape\n",
    "print(shape)\n",
    "rows = shape[0]\n",
    "loop_all_rows(rows)\n",
    "    "
   ]
  },
  {
   "cell_type": "code",
   "execution_count": 6,
   "metadata": {
    "scrolled": false
   },
   "outputs": [
    {
     "name": "stdout",
     "output_type": "stream",
     "text": [
      "   id stk_name   日期:\n",
      "0   2      新国都  6月8日\n",
      "1   3      博迈科  6月8日\n",
      "2   4     恒力股份  6月8日\n",
      "3   5     万润科技  6月8日\n"
     ]
    }
   ],
   "source": [
    "#根据日期对数据进行聚类\n",
    "select_news = pd.read_csv('somecolumns.csv')\n",
    "print(select_news.head(4))\n",
    "import matplotlib.pyplot as plt\n"
   ]
  },
  {
   "cell_type": "code",
   "execution_count": 7,
   "metadata": {},
   "outputs": [
    {
     "data": {
      "image/png": "[encoded data removed]",
      "text/plain": [
       "<Figure size 432x288 with 1 Axes>"
      ]
     },
     "metadata": {
      "needs_background": "light"
     },
     "output_type": "display_data"
    }
   ],
   "source": [
    "def plot(select_news):\n",
    "    x = select_news['日期:']\n",
    "    y = select_news['stk_name']\n",
    "    plt.scatter(x, y, color='g')\n",
    "    plt.xlabel('Date')\n",
    "    plt.ylabel('Company')\n",
    "    #xlim((xmin='4月1日', xmax='8月1日'))\n",
    "    plt.show()\n",
    "plot(select_news)\n"
   ]
  },
  {
   "cell_type": "code",
   "execution_count": 8,
   "metadata": {
    "scrolled": false
   },
   "outputs": [
    {
     "name": "stdout",
     "output_type": "stream",
     "text": [
      "(1199, 15)\n",
      "      id                                           stk_code  \\\n",
      "0  36809                                          002081.SZ   \n",
      "1      ↵  摘要我们认为只有在长期下跌趋势中仍保持上涨且区间涨幅超过中位数或在中期下跌趋势中经过短期多次...   \n",
      "2  36810                                          300130.SZ   \n",
      "\n",
      "                                            stk_name  \\\n",
      "0                                                金螳螂   \n",
      "1  摘要我们认为只有在长期下跌趋势中仍保持上涨且区间涨幅超过中位数或在中期下跌趋势中经过短期多次...   \n",
      "2                                                新国都   \n",
      "\n",
      "                    news_title news_roundup news_detail begin_date end_date  \\\n",
      "0    安信策略陈果：那些“现象级”的逆势股是如何诞生的？          NaN         NaN        NaN      NaN   \n",
      "1                       6/8/19      8/20/19           6   whatever   6/8/19   \n",
      "2  新国都股东江汉拟减持股份 该公司去年利润增长245%↵   6月8日消息，新国都  6月8日消息，新国都     6/8/19  8/20/19   \n",
      "\n",
      "   news_catalog    source etldate   times_stamp  id stk_name   日期:  \n",
      "0           NaN       NaN     NaN           NaN   2      新国都  6月8日  \n",
      "1  6/8/19 15:17       NaN     NaN           NaN   3      博迈科  6月8日  \n",
      "2             6  whatever  6/8/19  6/8/19 15:22   4     恒力股份  6月8日  \n"
     ]
    }
   ],
   "source": [
    "#df=select_news.set_index(['id'], inplace=True)\n",
    "concat_news_and_select_news = pd.concat([news, select_news], axis=1, join='inner')\n",
    "print(concat_news_and_select_news.shape)\n",
    "print(concat_news_and_select_news.head(3))\n",
    "with open ('select_news_from_origin.csv', 'w') as f:\n",
    "    f.write(str(concat_news_and_select_news))"
   ]
  },
  {
   "cell_type": "code",
   "execution_count": 9,
   "metadata": {},
   "outputs": [],
   "source": [
    "date_columns = concat_news_and_select_news['日期:']\n",
    "#print(concat_news_and_select_news.columns)\n",
    "def convert_date(date_columns):\n",
    "    #print(type(date_columns), date_columns.head())\n",
    "    for i, date in enumerate(date_columns):\n",
    "        split_date = re.split(\"月|日|'\\\\'|'\\/'\", date)\n",
    "        date_columns[i] = str(split_date[0]) + '-' + str(split_date[1])\n",
    "    #print(type(date_columns), date_columns.head()) \n",
    "    return date_columns\n",
    "concat_news_and_select_news['日期:'] = convert_date(date_columns)\n"
   ]
  },
  {
   "cell_type": "code",
   "execution_count": 46,
   "metadata": {},
   "outputs": [
    {
     "name": "stdout",
     "output_type": "stream",
     "text": [
      "<class 'pandas.core.series.Series'>\n",
      "0           NaN\n",
      "1             6\n",
      "2    6月8日消息，新国都\n",
      "3    6月8日消息，博迈科\n",
      "4    6月8日消息，恒力股\n",
      "Name: news_detail, dtype: object\n",
      "(35, 15)\n"
     ]
    }
   ],
   "source": [
    "\n",
    "\n",
    "# #concat_news_and_select_news['日期:'] = pd.to_datetime(concat_news_and_select_news['日期:'])\n",
    "print(type(concat_news_and_select_news['日期:']))\n",
    "#print(concat_news_and_select_news.columns)\n",
    "print(concat_news_and_select_news['news_detail'].head(5))\n",
    "\n",
    "date_6_8 = concat_news_and_select_news.loc[lambda concat_news_and_select_news: concat_news_and_select_news['日期:']=='6-8', :]\n",
    "#print(date_6_8.head())\n",
    "print(date_6_8.shape)\n",
    "date_6_8.to_csv('date_6_8.csv', sep=',', header=True, index=True)\n",
    "\n",
    "    "
   ]
  },
  {
   "cell_type": "code",
   "execution_count": 25,
   "metadata": {},
   "outputs": [],
   "source": [
    "\n",
    "def split_content(content):\n",
    "    global content_S\n",
    "    content_S = []\n",
    "    \n",
    "    for line in content:\n",
    "        #print(line)\n",
    "        current_segment = jieba.lcut(line)\n",
    "        #print('current_segment:', current_segment)\n",
    "        #if len(current_segment) > 1 and current_segment != '\\r\\n': #换行符\n",
    "        #if len(current_segment) > 1 :\n",
    "        content_S.append(current_segment)\n",
    "    #print(content_S)\n",
    "    #return content_S"
   ]
  },
  {
   "cell_type": "code",
   "execution_count": 26,
   "metadata": {
    "scrolled": false
   },
   "outputs": [
    {
     "name": "stdout",
     "output_type": "stream",
     "text": [
      "35\n"
     ]
    }
   ],
   "source": [
    "#date_6_8.dropna()\n",
    "#date_6_8.iloc[1:2]['news_detail'] = '6月8日'\n",
    "date_6_8 = pd.read_csv('date_6_8.csv', \n",
    "                        encoding='utf-8')\n",
    "# names=['id', 'stk_cod','stk_name',\n",
    "#                              'news_title','news_roundup',\n",
    "#                              'news_detail','begin_date',\n",
    "#                              'end_date','news_catalog',\n",
    "#                              'source', 'etldate',\n",
    "#                              'times_stamp','id',\n",
    "#                              'stk_name','日期'],\n",
    "#date_6_8 = date_6_8.reset_index()\n",
    "#print(date_6_8.columns)\n",
    "#print(date_6_8.head(3))\n",
    "#print(date_6_8['news_detail'][:5])\n",
    "#a = str(date_6_8['news_detail'])\n",
    "a = date_6_8['news_detail'].astype(str)\n",
    "b = date_6_8['id'].astype(str)\n",
    "c = list(zip(b, a))\n",
    "#b = pd.DataFrame({'id':date_6_8['id'], 'news_detail':date_6_8['news_detail'].astype(str),columns=['id','news_detail']})\n",
    "d = pd.DataFrame(c, columns=['id','news_detail'])\n",
    "#print(d)\n",
    "content = d['news_detail'].tolist()\n",
    "print(len(content))\n",
    "#print(content[:1])\n",
    "split_content(content)\n",
    "news_detail_split = pd.Series(content_S).astype(str)\n",
    "#print(news_detail_split)\n",
    "d['news_detail_split'] = news_detail_split\n",
    "d.to_csv('date_6_8_split.csv', sep=',', encoding='utf-8', header=True, index=True)\n",
    "\n"
   ]
  },
  {
   "cell_type": "code",
   "execution_count": 27,
   "metadata": {
    "scrolled": true
   },
   "outputs": [
    {
     "name": "stdout",
     "output_type": "stream",
     "text": [
      "                                            content_S     id\n",
      "30  [美债, 利率, 倒挂, ，, 国内, 债市, 向, 好, —, —, 海通, 债券, 每周...  37659\n",
      "31  [美债, 利率, 倒挂, ，, 国内, 债市, 向, 好, —, —, 海通, 债券, 每周...  37660\n",
      "32  [【, 证券, 】, 证券, 行业, 并购, 重组, 深度, 报告, ：, 勇立, 潮头, ...  37661\n",
      "33  [【, 证券, 】, 证券, 行业, 并购, 重组, 深度, 报告, ：, 勇立, 潮头, ...  37662\n",
      "34  [【, 证券, 】, 证券, 行业, 并购, 重组, 深度, 报告, ：, 勇立, 潮头, ...  37663\n",
      "(35, 2)\n"
     ]
    }
   ],
   "source": [
    "#content_S[20]\n",
    "df_content = pd.DataFrame({'content_S': content_S})\n",
    "df_content['id'] = d['id']\n",
    "print(df_content.tail())\n",
    "print(df_content.shape)"
   ]
  },
  {
   "cell_type": "code",
   "execution_count": 40,
   "metadata": {
    "scrolled": true
   },
   "outputs": [
    {
     "name": "stdout",
     "output_type": "stream",
     "text": [
      "  stopword\n",
      "0        !\n",
      "1        \"\n",
      "2        #\n",
      "3        $\n",
      "4        %\n",
      "5        &\n",
      "6        '\n",
      "7        (\n",
      "8        )\n",
      "9        *\n"
     ]
    }
   ],
   "source": [
    "stopwords = pd.read_csv(r'/Users/jw/Projects/jiqixuexisuanfa_tanbingfeng/20190612算法周工作安排/stopwords/stopwords.txt',sep='\\t',quoting=3, names=['stopword'],encoding='utf-8')\n",
    "print(stopwords.head(10))"
   ]
  },
  {
   "cell_type": "code",
   "execution_count": 41,
   "metadata": {},
   "outputs": [],
   "source": [
    "def drop_stopwords(contents,stopwords):\n",
    "    contents_clean = []\n",
    "    #all_words = []\n",
    "    for line in contents:\n",
    "        line_clean = []\n",
    "        for word in line:\n",
    "            if word in stopwords:\n",
    "                continue\n",
    "            line_clean.append(word)\n",
    "            #all_words.append(str(word))\n",
    "        contents_clean.append(line_clean)\n",
    "    #return contents_clean,all_words\n",
    "    return contents_clean\n",
    "    #print (contents_clean)\n",
    "        "
   ]
  },
  {
   "cell_type": "code",
   "execution_count": 42,
   "metadata": {},
   "outputs": [
    {
     "name": "stdout",
     "output_type": "stream",
     "text": [
      "35\n"
     ]
    }
   ],
   "source": [
    "contents = df_content.content_S.values.tolist()    \n",
    "stopwords = stopwords.stopword.values.tolist()\n",
    "contents_clean = drop_stopwords(contents,stopwords)\n",
    "print(len(contents_clean))\n",
    "#print(contents_clean)\n",
    "#d['news_detail_clean'] = pd.Series(contents_clean).astype(str)\n",
    "d['news_detail_clean'] = pd.Series(contents_clean).astype(list)\n",
    "d.to_csv('date_6_8_split_clean.csv', sep=',', encoding='utf-8', header=True, index=True)\n"
   ]
  },
  {
   "cell_type": "code",
   "execution_count": 240,
   "metadata": {},
   "outputs": [
    {
     "name": "stdout",
     "output_type": "stream",
     "text": [
      "  content_S     id news_detail\n",
      "0     [nan]  36809       [nan]\n",
      "1        []      ↵          []\n",
      "2      [新国]  36810        [新国]\n",
      "3     [博迈科]  36811       [博迈科]\n",
      "4   [恒力, 股]  36812     [恒力, 股]\n"
     ]
    }
   ],
   "source": [
    "# def convert_list_to_Series(list):\n",
    "#     for i in contents_clean:\n",
    "#         try:\n",
    "#print(pd.Series((i for i in contents_clean)))\n",
    "df_content['content_S'] = pd.Series((i for i in contents_clean))\n",
    "print(df_content.head())"
   ]
  },
  {
   "cell_type": "code",
   "execution_count": 206,
   "metadata": {
    "scrolled": true
   },
   "outputs": [],
   "source": [
    "import jieba.analyse\n",
    "def extract_keywords(contents_clean):\n",
    "    contents_clean_extract = []\n",
    "    for line in contents_clean:\n",
    "        line_str = \"\".join(line)           \n",
    "        #extract_line_str = \"  \".join(jieba.analyse.extract_tags(line_str, topK=10, withWeight=False))\n",
    "        extract_line = jieba.analyse.extract_tags(line_str, topK=7, withWeight=False)        \n",
    "        contents_clean_extract.append(extract_line)\n",
    "    return contents_clean_extract"
   ]
  },
  {
   "cell_type": "code",
   "execution_count": 278,
   "metadata": {
    "scrolled": true
   },
   "outputs": [
    {
     "name": "stdout",
     "output_type": "stream",
     "text": [
      "35\n",
      "  content_S     id news_detail\n",
      "0     [nan]  36809       [nan]\n",
      "1        []      ↵          []\n",
      "2      [新国]  36810        [新国]\n",
      "3     [博迈科]  36811       [博迈科]\n",
      "4      [恒力]  36812     [恒力, 股]\n"
     ]
    }
   ],
   "source": [
    "#print(contents_clean)\n",
    "contents_clean_extract = extract_keywords(contents_clean)\n",
    "# print(contents_clean_extract[:10])\n",
    "print(len(contents_clean_extract))\n",
    "df_content['content_S'] = pd.Series((i for i in contents_clean_extract))\n",
    "#df_content.to_csv('contents_clean_extract.csv', sep=',', header=True, index=True)\n",
    "print(df_content.head())"
   ]
  },
  {
   "cell_type": "code",
   "execution_count": 125,
   "metadata": {},
   "outputs": [],
   "source": [
    "#获得词库，传入格式为list of list\n",
    "def get_seg_list(contents_clean_extract):\n",
    "    seg_list = []\n",
    "    for i in contents_clean_extract:\n",
    "        seg_list += i\n",
    "    return list(set(seg_list))        "
   ]
  },
  {
   "cell_type": "code",
   "execution_count": 126,
   "metadata": {},
   "outputs": [],
   "source": [
    "#seg_list为词库， str_list为需要转化为向量的list\n",
    "def onehotlist_a(seg_list, str_list):\n",
    "    onehot_list = []\n",
    "    for i in seg_list:\n",
    "        if i in str_list:\n",
    "            onehot_list.append(1)\n",
    "        else:\n",
    "            onehot_list.append(0)\n",
    "    return(onehot_list)"
   ]
  },
  {
   "cell_type": "code",
   "execution_count": 127,
   "metadata": {},
   "outputs": [],
   "source": [
    "def onehotlists(seg_list, contents_clean_extract):\n",
    "    onehot_lists = []\n",
    "    for i in contents_clean_extract:\n",
    "        onehot_list = onehotlist_a(seg_list, i)\n",
    "        #print(onehot_list, '\\t')\n",
    "        onehot_lists.append(onehot_list)\n",
    "    print(len(onehot_lists))\n",
    "    return onehot_lists"
   ]
  },
  {
   "cell_type": "code",
   "execution_count": 129,
   "metadata": {
    "scrolled": true
   },
   "outputs": [],
   "source": [
    "contents_clean_extract = pd.read_csv('date_6_8_split_clean.csv', sep=',',\n",
    "                        encoding='utf-8') \n",
    "#onehot_lists = onehotlists(get_seg_list(contents_clean_extract), contents_clean_extract)\n",
    "#print(onehot_lists)"
   ]
  },
  {
   "cell_type": "markdown",
   "metadata": {},
   "source": [
    "### cos distance"
   ]
  },
  {
   "cell_type": "code",
   "execution_count": 123,
   "metadata": {},
   "outputs": [],
   "source": [
    "\n",
    "from scipy.spatial.distance import pdist\n",
    "def compute_cos_distance(onehot_lists):\n",
    "    distance_list = []\n",
    "    index_list = []\n",
    "    for i in range(len(onehot_lists)-1):    \n",
    "        for j in range(1, len(onehot_lists)):\n",
    "            distance = pdist(np.vstack([onehot_lists[i], onehot_lists[j]]), 'cosine')[0]\n",
    "            distance_list.append(distance)\n",
    "            index_str = '索引 %d 与索引 %d 之间的余弦距离为:' % (i, j)\n",
    "            index_list.append(index_str)\n",
    "    #return dict(zip(index_list, distance_list))\n",
    "    \n"
   ]
  },
  {
   "cell_type": "code",
   "execution_count": 130,
   "metadata": {},
   "outputs": [],
   "source": [
    "compute_cos_distance(onehot_lists)\n"
   ]
  },
  {
   "cell_type": "markdown",
   "metadata": {},
   "source": [
    "### LDA"
   ]
  },
  {
   "cell_type": "code",
   "execution_count": 5,
   "metadata": {},
   "outputs": [],
   "source": [
    "\n",
    "from gensim import corpora, models, similarities\n",
    "import gensim"
   ]
  },
  {
   "cell_type": "code",
   "execution_count": 8,
   "metadata": {},
   "outputs": [
    {
     "data": {
      "text/plain": [
       "[[1, 2, 3], [4, 5, 6]]"
      ]
     },
     "execution_count": 8,
     "metadata": {},
     "output_type": "execute_result"
    }
   ],
   "source": [
    "import ast\n",
    "def convert_listofstr_to_listoflist(list_of_str):    \n",
    "    list_of_list = []\n",
    "    for i in list_of_str:\n",
    "        i = ast.literal_eval(i)\n",
    "        list_of_list.append(i)\n",
    "    return list_of_list\n",
    "convert_listofstr_to_listoflist(['[1,2,3]', '[4,5,6]'])"
   ]
  },
  {
   "cell_type": "code",
   "execution_count": 7,
   "metadata": {
    "scrolled": true
   },
   "outputs": [],
   "source": [
    "date_6_8_split_clean = pd.read_csv('date_6_8_split_clean.csv', sep=',',\n",
    "                        encoding='utf-8')\n",
    "#news_detail_split_clean = date_6_8_split_clean['news_detail_clean'].values.tolist()\n",
    "news_detail_split_clean = date_6_8_split_clean['news_detail_clean'].values.tolist()\n",
    "\n",
    "news_detail_split_clean_1 = convert_listofstr_to_listoflist(news_detail_split_clean)\n",
    "\n",
    "#news_detail_split_clean = date_6_8_split_clean['news_detail_clean']\n",
    "#print(news_detail_split_clean.head(20))\n",
    "\n"
   ]
  },
  {
   "cell_type": "code",
   "execution_count": 8,
   "metadata": {},
   "outputs": [],
   "source": [
    "# print(news_detail_split_clean_1)\n",
    "# print(len(news_detail_split_clean_1))"
   ]
  },
  {
   "cell_type": "code",
   "execution_count": 9,
   "metadata": {
    "scrolled": false
   },
   "outputs": [
    {
     "name": "stdout",
     "output_type": "stream",
     "text": [
      "Dictionary(1699 unique tokens: ['nan', '新国', '博迈科', '恒力', '股']...)\n",
      "(1698, 2)\n",
      "[[(0, 1)], [], [(1, 1)], [(2, 1)], [(3, 1), (4, 1)], [(5, 1)], [(6, 1)], [(6, 1), (7, 1)], [(8, 1), (9, 1), (10, 1)], [(8, 1), (9, 1), (10, 1)], [(8, 1), (9, 1), (10, 1)], [(8, 1), (9, 1), (10, 1)], [(8, 1), (9, 1), (10, 1)], [(8, 1), (9, 1), (10, 1)], [(8, 1), (9, 1), (10, 1)]]\n"
     ]
    }
   ],
   "source": [
    "#dictionary = corpora.Dictionary([['30'],['45'],['30']])\n",
    "#print(news_detail_split_clean_1)\n",
    "#print(news_detail_split_clean_1[:8])\n",
    "dictionary = corpora.Dictionary(news_detail_split_clean_1)\n",
    "print(dictionary)\n",
    "# for key, value in dictionary.items():\n",
    "#     print(key, value)\n",
    "#print(dictionary['9'])\n",
    "# for i in dictionary.keys():\n",
    "#     print(i)\n",
    "\n",
    "#[(1, 1)]\n",
    "corpus = [dictionary.doc2bow(sentence) for sentence in news_detail_split_clean_1]\n",
    "print(corpus[-1][-1])\n",
    "print(corpus[:15])\n",
    "#(1698, 2)表示dictionary中最后一个词，在最后一篇文章里出现了2次\n",
    "\n",
    "\n",
    "\n",
    "# for i,sentence in enumerate(news_detail_split_clean_1):\n",
    "#     if i == 0 or 1 or 2:\n",
    "#         #print(sentence)\n",
    "#         pass"
   ]
  },
  {
   "cell_type": "code",
   "execution_count": 10,
   "metadata": {
    "scrolled": true
   },
   "outputs": [],
   "source": [
    "# dictionary = corpora.Dictionary([[\"nan\"], [''], ['新国'], [\"博迈科\"], ['恒力', '股'], [\"万润科\"], [\"近日\"], ['近日', '庄']])\n",
    "# print(dictionary)"
   ]
  },
  {
   "cell_type": "code",
   "execution_count": 11,
   "metadata": {},
   "outputs": [],
   "source": [
    "lda = gensim.models.ldamodel.LdaModel(corpus=corpus, id2word=dictionary, num_topics=10)"
   ]
  },
  {
   "cell_type": "code",
   "execution_count": 12,
   "metadata": {
    "scrolled": false
   },
   "outputs": [
    {
     "name": "stdout",
     "output_type": "stream",
     "text": [
      "[(0, 0.09381683), (5, 0.15366454), (8, 0.7519366)]\n",
      "[(0, 0.07708649), (5, 0.17218663), (8, 0.7501449)]\n",
      "[(0, 0.08787497), (5, 0.15905577), (8, 0.7524873)]\n",
      "[(0, 0.0626001), (5, 0.15017141), (8, 0.7866465)]\n",
      "[(0, 0.091842346), (5, 0.14436981), (8, 0.7632059)]\n",
      "[(0, 0.111396044), (5, 0.1680325), (8, 0.7199895)]\n",
      "[(2, 0.32623544), (9, 0.671739)]\n",
      "[(2, 0.3187889), (9, 0.6791855)]\n",
      "[(2, 0.34810203), (9, 0.64987236)]\n"
     ]
    }
   ],
   "source": [
    "for i,j in enumerate(lda.get_document_topics(corpus)):\n",
    "    if i >25:\n",
    "        print(j)\n",
    "# [(6, 0.9977213)]\n",
    "# [(6, 0.9977213)]\n",
    "# [(6, 0.9977213)]\n",
    "#从后3篇文章可以看出，这3篇文章属于第6个主题的概率接近，所以可以将这3篇文章归为同一类\n"
   ]
  },
  {
   "cell_type": "markdown",
   "metadata": {},
   "source": [
    "### simhash"
   ]
  },
  {
   "cell_type": "code",
   "execution_count": 13,
   "metadata": {},
   "outputs": [],
   "source": [
    "date_6_8_split_clean = pd.read_csv('date_6_8_split_clean.csv', sep=',',\n",
    "                        encoding='utf-8')\n",
    "news_detail_split_clean = date_6_8_split_clean['news_detail_clean'].values.tolist()\n",
    "news_detail_split_clean_1 = convert_listofstr_to_listoflist(news_detail_split_clean)\n",
    "#print(news_detail_split_clean_1)\n"
   ]
  },
  {
   "cell_type": "code",
   "execution_count": 14,
   "metadata": {},
   "outputs": [],
   "source": [
    "def calculate_idf(news_detail_split_clean_1):\n",
    "    doc_num = len(news_detail_split_clean_1)\n",
    "    idf_listoflist = []\n",
    "    for doc in news_detail_split_clean_1:\n",
    "        idf_single_doc = []\n",
    "        for word in doc:\n",
    "            doc_content_word_num = 0\n",
    "            for doc in news_detail_split_clean_1:\n",
    "                if word in doc:\n",
    "                    doc_content_word_num += 1\n",
    "            idf_single_doc.append(doc_content_word_num/doc_num)  \n",
    "        idf_listoflist.append(idf_single_doc)\n",
    "    return idf_listoflist"
   ]
  },
  {
   "cell_type": "code",
   "execution_count": 15,
   "metadata": {},
   "outputs": [
    {
     "name": "stdout",
     "output_type": "stream",
     "text": [
      "35\n"
     ]
    }
   ],
   "source": [
    "calculate_idf = calculate_idf(news_detail_split_clean_1)\n",
    "print(len(calculate_idf))"
   ]
  },
  {
   "cell_type": "code",
   "execution_count": 16,
   "metadata": {},
   "outputs": [],
   "source": [
    "def calculate_tf(news_detail_split_clean_1):\n",
    "    tf_listoflist = []\n",
    "    for doc in news_detail_split_clean_1:\n",
    "        doc_len = len(doc)\n",
    "        single_doc_content_word_nums = []\n",
    "        for word in doc:\n",
    "            single_doc_content_word_num = 0\n",
    "            for word_again in doc:                \n",
    "                if word == word_again:\n",
    "                    single_doc_content_word_num +=1\n",
    "            single_tf = single_doc_content_word_num/doc_len\n",
    "            single_doc_content_word_nums.append(single_tf)\n",
    "        tf_listoflist.append(single_doc_content_word_nums)\n",
    "    return tf_listoflist"
   ]
  },
  {
   "cell_type": "code",
   "execution_count": 17,
   "metadata": {},
   "outputs": [
    {
     "name": "stdout",
     "output_type": "stream",
     "text": [
      "35\n"
     ]
    }
   ],
   "source": [
    "calculate_tf = calculate_tf(news_detail_split_clean_1)\n",
    "print(len(calculate_tf))"
   ]
  },
  {
   "cell_type": "code",
   "execution_count": 22,
   "metadata": {},
   "outputs": [],
   "source": [
    "def multi_listoflist(list1, list2):\n",
    "    list3 = []\n",
    "    for i, ratio in enumerate(list1):\n",
    "        muti_list = list(map(lambda a,b:a*b*1000, ratio, list2[i]))\n",
    "        list3.append(muti_list)\n",
    "    return list3"
   ]
  },
  {
   "cell_type": "code",
   "execution_count": 19,
   "metadata": {},
   "outputs": [
    {
     "data": {
      "text/plain": [
       "[[4, 10, 18], [4, 10, 18]]"
      ]
     },
     "execution_count": 19,
     "metadata": {},
     "output_type": "execute_result"
    }
   ],
   "source": [
    "multi_listoflist([[1,2,3], [1,2,3]], [[4,5,6],[4,5,6]])"
   ]
  },
  {
   "cell_type": "code",
   "execution_count": 24,
   "metadata": {},
   "outputs": [
    {
     "name": "stdout",
     "output_type": "stream",
     "text": [
      "35\n"
     ]
    }
   ],
   "source": [
    "tf_idf_listoflist = multi_listoflist(calculate_idf,calculate_tf)\n",
    "print(len(tf_idf_listoflist))\n",
    "#print(tf_idf_listoflist)"
   ]
  },
  {
   "cell_type": "code",
   "execution_count": 25,
   "metadata": {},
   "outputs": [],
   "source": [
    "def generate_dic_for_keyword_weight(listoflist_keyword, listoflist_weight):\n",
    "    doc_weight_dict = []\n",
    "    for i, doc in enumerate(listoflist_keyword):\n",
    "        single_doc_weight_dict = dict(zip(doc, listoflist_weight[i]))\n",
    "        doc_weight_dict.append(single_doc_weight_dict)\n",
    "    return doc_weight_dict\n",
    "    "
   ]
  },
  {
   "cell_type": "code",
   "execution_count": 27,
   "metadata": {},
   "outputs": [
    {
     "name": "stdout",
     "output_type": "stream",
     "text": [
      "35\n",
      "[{'nan': 28.57142857142857}, {}, {'新国': 28.57142857142857}, {'博迈科': 28.57142857142857}, {'恒力': 14.285714285714285, '股': 57.14285714285714}]\n"
     ]
    }
   ],
   "source": [
    "generate_dic_for_keyword_weight = generate_dic_for_keyword_weight(news_detail_split_clean_1, tf_idf_listoflist)\n",
    "print(len(generate_dic_for_keyword_weight))\n",
    "print(generate_dic_for_keyword_weight[:5])"
   ]
  },
  {
   "cell_type": "code",
   "execution_count": 32,
   "metadata": {},
   "outputs": [],
   "source": [
    "def getBinStr(source):\n",
    "        if source == \"\":\n",
    "            return 0\n",
    "        else:\n",
    "            x = ord(source[0]) << 7\n",
    "            m = 1000003\n",
    "            mask = 2 ** 128 - 1\n",
    "            for c in source:\n",
    "                x = ((x * m) ^ ord(c)) & mask\n",
    "            x ^= len(source)\n",
    "            if x == -1:\n",
    "                x = -2\n",
    "            x = bin(x).replace('0b', '').zfill(64)[-64:]\n",
    "            #print(source, x, len(x))\n",
    "            return str(x)"
   ]
  },
  {
   "cell_type": "code",
   "execution_count": 74,
   "metadata": {},
   "outputs": [],
   "source": [
    "#合并\n",
    "def sum_listoflist(listoflist):\n",
    "    try:\n",
    "        sumlistoflist = list(np.sum(listoflist, axis=0))\n",
    "    except TypeError:\n",
    "        sumlistoflist = []\n",
    "    return sumlistoflist"
   ]
  },
  {
   "cell_type": "code",
   "execution_count": 77,
   "metadata": {},
   "outputs": [
    {
     "data": {
      "text/plain": [
       "[4, 6]"
      ]
     },
     "execution_count": 77,
     "metadata": {},
     "output_type": "execute_result"
    }
   ],
   "source": [
    "sum_listoflist([[1,2],[3,4]])\n",
    "#sum_listoflist([])"
   ]
  },
  {
   "cell_type": "code",
   "execution_count": 6,
   "metadata": {},
   "outputs": [],
   "source": [
    "#降维\n",
    "def convert_onezero_listoflist(listoflist):\n",
    "    onezero_doc = []\n",
    "    for doc in listoflist:\n",
    "        single_onezero_doc = []\n",
    "        for word in doc:\n",
    "            try:\n",
    "                if word > 0:\n",
    "                    single_onezero_doc.append(1)\n",
    "                elif word <= 0:\n",
    "                    single_onezero_doc.append(0)\n",
    "                else:\n",
    "                    pass\n",
    "            except TypeError:\n",
    "                pass\n",
    "        onezero_doc.append(single_onezero_doc)\n",
    "    return onezero_doc       "
   ]
  },
  {
   "cell_type": "code",
   "execution_count": 116,
   "metadata": {},
   "outputs": [],
   "source": [
    "convert_onezero_listoflist([[1,2],[]])\n",
    "a = [[-29, 29, -29, -29, 29,\n",
    "      -29, -29, 29, -29, -29, \n",
    "      -29, -29, -29, -29, 29,\n",
    "      29, -29, -29, 29, 29, -29,\n",
    "      -29, -29, -29, 29, -29, -29,\n",
    "      -29, -29, 29, -29, 29, 29,\n",
    "      -29, 29, -29, 29, 29, -29, 29,\n",
    "      29, -29, 29, -29, 29, 29, -29,\n",
    "      29, 29, -29, 29, 29, -29, 29,\n",
    "      29, 29, 29, -29, 29, -29, 29, 29, -29, -29], []]\n",
    "#convert_onezero_listoflist(a)"
   ]
  },
  {
   "cell_type": "code",
   "execution_count": 133,
   "metadata": {},
   "outputs": [],
   "source": [
    "import math\n",
    "def simhash(keyword_weight_listoflist):\n",
    "    doc_weight = []\n",
    "    for doc in keyword_weight_listoflist:\n",
    "        single_doc_weight = []\n",
    "        for key, weight in doc.items():\n",
    "            single_word_weight = []\n",
    "            key_bin = getBinStr(key)\n",
    "            weight = math.ceil(weight)\n",
    "            for i in key_bin:\n",
    "                if int(i) == 1:\n",
    "                    single_word_weight.append(weight)\n",
    "                else:\n",
    "                    single_word_weight.append(-weight)\n",
    "            single_doc_weight.append(single_word_weight)\n",
    "        single_doc_weight = sum_listoflist(single_doc_weight)\n",
    "        #不可以在里面调用\n",
    "        #single_doc_weight = convert_onezero_listoflist(single_doc_weight)\n",
    "        doc_weight.append(single_doc_weight)\n",
    "    return doc_weight\n",
    "                    "
   ]
  },
  {
   "cell_type": "code",
   "execution_count": 134,
   "metadata": {},
   "outputs": [
    {
     "name": "stdout",
     "output_type": "stream",
     "text": [
      "35\n"
     ]
    }
   ],
   "source": [
    "simhash = simhash(generate_dic_for_keyword_weight)\n",
    "onezero_simhash = convert_onezero_listoflist(simhash)\n",
    "print(len(onezero_simhash))\n",
    "#print(onezero_simhash)"
   ]
  },
  {
   "cell_type": "code",
   "execution_count": 135,
   "metadata": {},
   "outputs": [],
   "source": [
    "#16位hash,分4段存储"
   ]
  },
  {
   "cell_type": "code",
   "execution_count": 139,
   "metadata": {},
   "outputs": [],
   "source": [
    "def get_distance(hashstr1, hashstr2):\n",
    "    distance = 0\n",
    "    for i ,hash_value in enumerate(hashstr1):        \n",
    "        if hash_value != hashstr2[i]:\n",
    "            distance += 1\n",
    "    return distance"
   ]
  },
  {
   "cell_type": "code",
   "execution_count": 144,
   "metadata": {},
   "outputs": [
    {
     "name": "stdout",
     "output_type": "stream",
     "text": [
      "22 0 0\n"
     ]
    }
   ],
   "source": [
    "ditance1 = get_distance(onezero_simhash[-1], onezero_simhash[-4])\n",
    "ditance2 = get_distance(onezero_simhash[-1], onezero_simhash[-2])\n",
    "ditance3 = get_distance(onezero_simhash[-1], onezero_simhash[-3])\n",
    "print(ditance1, ditance2, ditance3)\n",
    "#最后3篇文章的相似性比较大"
   ]
  },
  {
   "cell_type": "markdown",
   "metadata": {},
   "source": [
    "### TF-IDF"
   ]
  },
  {
   "cell_type": "code",
   "execution_count": 145,
   "metadata": {},
   "outputs": [],
   "source": [
    "import gensim\n",
    "from gensim import corpora, models, similarities"
   ]
  },
  {
   "cell_type": "code",
   "execution_count": 146,
   "metadata": {},
   "outputs": [],
   "source": [
    "date_6_8_split_clean = pd.read_csv('date_6_8_split_clean.csv', sep=',',\n",
    "                        encoding='utf-8')\n",
    "news_detail_split_clean = date_6_8_split_clean['news_detail_clean'].values.tolist()\n",
    "news_detail_split_clean_1 = convert_listofstr_to_listoflist(news_detail_split_clean)\n"
   ]
  },
  {
   "cell_type": "code",
   "execution_count": 147,
   "metadata": {},
   "outputs": [],
   "source": [
    "dictionary = corpora.Dictionary(news_detail_split_clean_1)\n",
    "corpus = [dictionary.doc2bow(doc) for doc in news_detail_split_clean_1]"
   ]
  },
  {
   "cell_type": "code",
   "execution_count": 157,
   "metadata": {},
   "outputs": [
    {
     "name": "stdout",
     "output_type": "stream",
     "text": [
      "35\n"
     ]
    }
   ],
   "source": [
    "print(len(corpus))\n",
    "#print(corpus)"
   ]
  },
  {
   "cell_type": "code",
   "execution_count": 148,
   "metadata": {},
   "outputs": [],
   "source": [
    "tfidf = models.TfidfModel(corpus)"
   ]
  },
  {
   "cell_type": "code",
   "execution_count": 162,
   "metadata": {},
   "outputs": [
    {
     "name": "stdout",
     "output_type": "stream",
     "text": [
      "TfidfModel(num_docs=35, num_nnz=6492)\n"
     ]
    }
   ],
   "source": [
    "print(tfidf)"
   ]
  },
  {
   "cell_type": "code",
   "execution_count": 158,
   "metadata": {},
   "outputs": [
    {
     "name": "stdout",
     "output_type": "stream",
     "text": [
      "35\n"
     ]
    }
   ],
   "source": [
    "#与corpus相比，tfidf[corpus]第二个参数转换为对应的tfidf\n",
    "print(len(list(tfidf[corpus])))\n",
    "#print(list(tfidf[corpus]))"
   ]
  },
  {
   "cell_type": "code",
   "execution_count": 149,
   "metadata": {},
   "outputs": [
    {
     "name": "stdout",
     "output_type": "stream",
     "text": [
      "1699\n"
     ]
    }
   ],
   "source": [
    "#求dictionary中键的数量\n",
    "featurenum=len(dictionary.token2id.keys())"
   ]
  },
  {
   "cell_type": "code",
   "execution_count": 159,
   "metadata": {},
   "outputs": [],
   "source": [
    "#获得包含35个array的list,每一个array的长度都为35，表示与每篇文章的相似度\n",
    "index=similarities.SparseMatrixSimilarity(tfidf[corpus],num_features=featurenum)"
   ]
  },
  {
   "cell_type": "code",
   "execution_count": 169,
   "metadata": {},
   "outputs": [
    {
     "name": "stdout",
     "output_type": "stream",
     "text": [
      "35\n",
      "[0.         0.         0.         0.         0.         0.\n",
      " 0.         0.         0.         0.         0.         0.\n",
      " 0.         0.         0.         0.         0.07750698 0.07750698\n",
      " 0.02903054 0.04980978 0.02965285 0.02965285 0.06724788 0.01596437\n",
      " 0.30073586 0.30073586 0.03305477 0.03305477 0.03305477 0.03305477\n",
      " 0.03305477 0.03305477 0.99999774 0.99999774 0.99999774] 35\n"
     ]
    }
   ],
   "source": [
    "print(len(list(index)))\n",
    "#获得最后一篇文章，格式为[(1, 1),(32, 5)]的稀疏向量\n",
    "#last_doc = dictionary.doc2bow(doc_str1.split())\n",
    "last_doc = list(tfidf[corpus])[-1]\n",
    "#print(last_doc)\n",
    "sim=index[last_doc]\n",
    "print(sim, len(sim))\n",
    "#从列表的后3列可以看出，最后3篇文章的相似度比较高"
   ]
  },
  {
   "cell_type": "markdown",
   "metadata": {},
   "source": [
    "### doc2vec"
   ]
  },
  {
   "cell_type": "code",
   "execution_count": 20,
   "metadata": {
    "scrolled": true
   },
   "outputs": [
    {
     "name": "stdout",
     "output_type": "stream",
     "text": [
      "<class 'list'>\n",
      "[['human', 'interface', 'computer'], ['survey', 'user', 'computer', 'system', 'response', 'time'], ['eps', 'user', 'interface', 'system'], ['system', 'human', 'system', 'eps'], ['user', 'response', 'time'], ['trees'], ['graph', 'trees'], ['graph', 'minors', 'trees'], ['graph', 'minors', 'survey']]\n",
      "[TaggedDocument(words=['human', 'interface', 'computer'], tags=[0]), TaggedDocument(words=['survey', 'user', 'computer', 'system', 'response', 'time'], tags=[1]), TaggedDocument(words=['eps', 'user', 'interface', 'system'], tags=[2]), TaggedDocument(words=['system', 'human', 'system', 'eps'], tags=[3]), TaggedDocument(words=['user', 'response', 'time'], tags=[4]), TaggedDocument(words=['trees'], tags=[5]), TaggedDocument(words=['graph', 'trees'], tags=[6]), TaggedDocument(words=['graph', 'minors', 'trees'], tags=[7]), TaggedDocument(words=['graph', 'minors', 'survey'], tags=[8])]\n"
     ]
    }
   ],
   "source": [
    "from gensim.test.utils import common_texts\n",
    "from gensim.models.doc2vec import Doc2Vec, TaggedDocument\n",
    "print (type(common_texts))\n",
    "print(common_texts)\n",
    "documents = [TaggedDocument(doc, [i]) for i, doc in enumerate(common_texts)]\n",
    "print(documents)\n",
    "model = Doc2Vec(documents, vector_size=5, window=2, min_count=1, workers=4)\n"
   ]
  },
  {
   "cell_type": "code",
   "execution_count": 55,
   "metadata": {},
   "outputs": [
    {
     "name": "stdout",
     "output_type": "stream",
     "text": [
      "<class 'list'>\n",
      "[['nan'], [], ['新国'], ['博迈科'], ['恒力', '股'], ['万润科'], ['近日'], ['近日', '庄'], ['摘要', '失落', '地产股'], ['摘要', '失落', '地产股'], ['摘要', '失落', '地产股'], ['摘要', '失落', '地产股']]\n"
     ]
    }
   ],
   "source": [
    "date_6_8_split_clean = pd.read_csv('date_6_8_split_clean.csv', sep=',',\n",
    "                        encoding='utf-8')\n",
    "news_detail_split_clean = date_6_8_split_clean['news_detail_clean'].values.tolist()\n",
    "news_detail_split_clean_1 = convert_listofstr_to_listoflist(news_detail_split_clean)\n",
    "print(type(news_detail_split_clean_1))\n",
    "print(news_detail_split_clean_1[:12])"
   ]
  },
  {
   "cell_type": "code",
   "execution_count": 42,
   "metadata": {},
   "outputs": [
    {
     "name": "stdout",
     "output_type": "stream",
     "text": [
      "[TaggedDocument(words=['nan'], tags=[0]), TaggedDocument(words=[], tags=[1])]\n",
      "35\n"
     ]
    }
   ],
   "source": [
    "# 注意i后面有中括号\n",
    "documents = [TaggedDocument(doc ,[i]) for i, doc in enumerate(news_detail_split_clean_1)]\n",
    "print(documents[:2])\n",
    "print(len(documents))\n",
    "# for i in documents:\n",
    "#     print(i.tags)\n",
    "#print(documents.tags())\n"
   ]
  },
  {
   "cell_type": "code",
   "execution_count": 51,
   "metadata": {
    "scrolled": true
   },
   "outputs": [],
   "source": [
    "#少于min_count次数的单词会被丢弃掉\n",
    "model_dm = Doc2Vec(documents, vector_size=5, windows=2, min_count=1, workers=1)\n",
    "#print(model.corpus_count)\n",
    "model_dm.train(documents, total_examples=model_dm.corpus_count, epochs=10)\n"
   ]
  },
  {
   "cell_type": "code",
   "execution_count": 59,
   "metadata": {},
   "outputs": [
    {
     "name": "stdout",
     "output_type": "stream",
     "text": [
      "[-4.0679297  4.360374  -2.0655031 -5.0215907  6.6757684]\n",
      "[(32, 0.938827633857727), (33, 0.9098161458969116), (24, 0.9009076952934265), (5, 0.8971340656280518), (34, 0.8803019523620605)]\n"
     ]
    }
   ],
   "source": [
    "inferred_vector_dm = model_dm.infer_vector(news_detail_split_clean_1[-1])\n",
    "print (inferred_vector_dm)\n",
    "sims = model_dm.docvecs.most_similar([inferred_vector_dm], topn=5)\n",
    "print(sims)\n",
    "#可以看出32 33 34条新闻，即后3条新闻的相似性比较大"
   ]
  },
  {
   "cell_type": "markdown",
   "metadata": {},
   "source": [
    "### Bert"
   ]
  },
  {
   "cell_type": "code",
   "execution_count": null,
   "metadata": {},
   "outputs": [],
   "source": []
  }
 ],
 "metadata": {
  "kernelspec": {
   "display_name": "Python 3",
   "language": "python",
   "name": "python3"
  },
  "language_info": {
   "codemirror_mode": {
    "name": "ipython",
    "version": 3
   },
   "file_extension": ".py",
   "mimetype": "text/x-python",
   "name": "python",
   "nbconvert_exporter": "python",
   "pygments_lexer": "ipython3",
   "version": "3.6.8"
  }
 },
 "nbformat": 4,
 "nbformat_minor": 2
}
