{
 "cells": [
  {
   "cell_type": "code",
   "execution_count": 14,
   "metadata": {},
   "outputs": [],
   "source": [
    "import numpy as np\n",
    "import pandas as pd\n",
    "import re"
   ]
  },
  {
   "cell_type": "code",
   "execution_count": 56,
   "metadata": {},
   "outputs": [],
   "source": [
    "#选出news_detail这一列中带有日期的数据，并存到somecolumns.csv文件中\n",
    "def loop_all_rows(rows):\n",
    "    for i in range(rows):\n",
    "    #for i in range(3):\n",
    "        one_news_detail = news['news_detail'][i]\n",
    "        #print(type(str(one_news_detail)))\n",
    "        one_news_detail = str(one_news_detail)\n",
    "        find_date = findDate(one_news_detail)\n",
    "        if find_date:\n",
    "            writeSomeColumnsToCSV(i, news['stk_name'][i], find_date)\n"
   ]
  },
  {
   "cell_type": "code",
   "execution_count": 57,
   "metadata": {},
   "outputs": [],
   "source": [
    "def writeSomeColumnsToCSV(index, stk_name, date):\n",
    "    with open ('somecolumns.csv', 'a+') as f:\n",
    "        #print(index, stk_name, date)\n",
    "        select_csv = str(index) + ',' + str(stk_name) + ',' + date + '\\n'\n",
    "        f.write(select_csv)\n"
   ]
  },
  {
   "cell_type": "code",
   "execution_count": 58,
   "metadata": {},
   "outputs": [
    {
     "name": "stdout",
     "output_type": "stream",
     "text": [
      "06月0888日\n"
     ]
    }
   ],
   "source": [
    "def findDate(string):\n",
    "    pattern = '\\d+月\\d+日'\n",
    "    c = re.findall(pattern=pattern, string=string)\n",
    "    try:\n",
    "        return c[0]\n",
    "    except IndexError:\n",
    "        pass\n",
    "a = findDate('hdhl06月0888日')\n",
    "#a = findDate('hnishii')\n",
    "print(a)"
   ]
  },
  {
   "cell_type": "code",
   "execution_count": null,
   "metadata": {},
   "outputs": [],
   "source": [
    "news = pd.read_csv('爬取的新闻0609.csv')\n",
    "#print(news.head())\n",
    "#print(news['news_detail'])\n",
    "shape = news.shape\n",
    "print(shape)\n",
    "rows = shape[0]\n",
    "loop_all_rows(rows)\n",
    "    "
   ]
  },
  {
   "cell_type": "code",
   "execution_count": 75,
   "metadata": {
    "scrolled": false
   },
   "outputs": [
    {
     "name": "stdout",
     "output_type": "stream",
     "text": [
      "   Index: 公司名称:   日期:\n",
      "0       2   新国都  6月8日\n",
      "1       3   博迈科  6月8日\n",
      "2       4  恒力股份  6月8日\n",
      "3       5  万润科技  6月8日\n"
     ]
    }
   ],
   "source": [
    "#根据日期对数据进行聚类\n",
    "select_news = pd.read_csv('somecolumns.csv')\n",
    "print(select_news.head(4))\n",
    "import matplotlib.pyplot as plt\n"
   ]
  },
  {
   "cell_type": "code",
   "execution_count": 76,
   "metadata": {},
   "outputs": [
    {
     "data": {
      "image/png": "[encoded data removed]",
      "text/plain": [
       "<Figure size 432x288 with 1 Axes>"
      ]
     },
     "metadata": {
      "needs_background": "light"
     },
     "output_type": "display_data"
    }
   ],
   "source": [
    "def plot(select_news):\n",
    "    x = select_news['日期:']\n",
    "    y = select_news['公司名称:']\n",
    "    plt.scatter(x, y, color='g')\n",
    "    plt.xlabel('Date')\n",
    "    plt.ylabel('Company')\n",
    "    #xlim((xmin='4月1日', xmax='8月1日'))\n",
    "    plt.show()\n",
    "plot(select_news)\n"
   ]
  },
  {
   "cell_type": "code",
   "execution_count": null,
   "metadata": {},
   "outputs": [],
   "source": []
  }
 ],
 "metadata": {
  "kernelspec": {
   "display_name": "Python 3",
   "language": "python",
   "name": "python3"
  },
  "language_info": {
   "codemirror_mode": {
    "name": "ipython",
    "version": 3
   },
   "file_extension": ".py",
   "mimetype": "text/x-python",
   "name": "python",
   "nbconvert_exporter": "python",
   "pygments_lexer": "ipython3",
   "version": "3.6.8"
  }
 },
 "nbformat": 4,
 "nbformat_minor": 2
}
